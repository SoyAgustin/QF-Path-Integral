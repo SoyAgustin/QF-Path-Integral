{
 "cells": [
  {
   "cell_type": "code",
   "execution_count": 38,
   "metadata": {},
   "outputs": [],
   "source": [
    "import pandas as pd\n",
    "import numpy as np\n",
    "import matplotlib.pyplot as plt"
   ]
  },
  {
   "cell_type": "code",
   "execution_count": 40,
   "metadata": {},
   "outputs": [
    {
     "name": "stdout",
     "output_type": "stream",
     "text": [
      "    n_max  caminantes   prob     error\n",
      "0      10         100  0.482  0.030331\n",
      "1     100         100  0.794  0.028703\n",
      "2    1000         100  0.928  0.018699\n",
      "3   10000         100  0.969  0.014613\n",
      "4  100000         100  0.981  0.010702\n"
     ]
    },
    {
     "data": {
      "image/png": "[encoded data removed]",
      "text/plain": [
       "<Figure size 640x480 with 1 Axes>"
      ]
     },
     "metadata": {},
     "output_type": "display_data"
    }
   ],
   "source": [
    "!cd /home/agustin/Escritorio/Servicio/MonteCarlo/bin && ./caminante1d\n",
    "\n",
    "archivo=\"caminante1d.csv\"\n",
    "ruta = f'/home/agustin/Escritorio/Servicio/Notebooks_Py/Datos/{archivo}'\n",
    "titulo_dim=\"RW 1D\\n Probabilidad de retorno\"\n",
    "df = pd.read_csv(ruta,sep=\",\")\n",
    "print(df)\n",
    "\n",
    "'''\n",
    "plt.scatter(df['n_max'],df['prob'])\n",
    "plt.title(titulo_dim)\n",
    "plt.xlabel('Repeticiones')\n",
    "plt.ylabel('Probabilidad')\n",
    "plt.show()\n",
    "'''\n",
    "\n",
    "plt.errorbar(1/df['n_max'],df['prob'],yerr=df[\"error\"],marker=\"o\",ls=\"-.\",ecolor=\"red\")\n",
    "plt.title(titulo_dim)\n",
    "plt.xlabel('$\\\\frac{1}{N}$')\n",
    "#plt.xscale(\"log\")\n",
    "plt.ylabel('P$_{return}$')\n",
    "plt.show()"
   ]
  },
  {
   "cell_type": "code",
   "execution_count": 45,
   "metadata": {},
   "outputs": [
    {
     "data": {
      "text/html": [
       "<div>\n",
       "<style scoped>\n",
       "    .dataframe tbody tr th:only-of-type {\n",
       "        vertical-align: middle;\n",
       "    }\n",
       "\n",
       "    .dataframe tbody tr th {\n",
       "        vertical-align: top;\n",
       "    }\n",
       "\n",
       "    .dataframe thead th {\n",
       "        text-align: right;\n",
       "    }\n",
       "</style>\n",
       "<table border=\"1\" class=\"dataframe\">\n",
       "  <thead>\n",
       "    <tr style=\"text-align: right;\">\n",
       "      <th></th>\n",
       "      <th>0</th>\n",
       "    </tr>\n",
       "  </thead>\n",
       "  <tbody>\n",
       "    <tr>\n",
       "      <th>0</th>\n",
       "      <td>8.771104</td>\n",
       "    </tr>\n",
       "    <tr>\n",
       "      <th>1</th>\n",
       "      <td>6.851336</td>\n",
       "    </tr>\n",
       "    <tr>\n",
       "      <th>2</th>\n",
       "      <td>9.266011</td>\n",
       "    </tr>\n",
       "    <tr>\n",
       "      <th>3</th>\n",
       "      <td>8.029092</td>\n",
       "    </tr>\n",
       "    <tr>\n",
       "      <th>4</th>\n",
       "      <td>10.538746</td>\n",
       "    </tr>\n",
       "  </tbody>\n",
       "</table>\n",
       "</div>"
      ],
      "text/plain": [
       "           0\n",
       "0   8.771104\n",
       "1   6.851336\n",
       "2   9.266011\n",
       "3   8.029092\n",
       "4  10.538746"
      ]
     },
     "execution_count": 45,
     "metadata": {},
     "output_type": "execute_result"
    }
   ],
   "source": [
    "df=pd.read_csv(\"/home/agustin/Escritorio/Servicio/Notebooks_Py/Datos/randomnumbers.csv\",header=None)\n",
    "df.head()"
   ]
  },
  {
   "cell_type": "code",
   "execution_count": 55,
   "metadata": {},
   "outputs": [
    {
     "name": "stdout",
     "output_type": "stream",
     "text": [
      "10.196482110588938\n",
      "10.970251348515703\n",
      "0.33121369761100916\n"
     ]
    }
   ],
   "source": [
    "sum=0\n",
    "for i in df[0]:\n",
    "    sum+=i\n",
    "prom=sum/len(df[0])\n",
    "\n",
    "sum_x2=0\n",
    "for i in df[0]:\n",
    "    sum_x2+=i**2\n",
    "var = (sum_x2-len(df[0])*(prom**2))/(len(df[0]-1))\n",
    "\n",
    "err= np.sqrt(var/len(df[0]))\n",
    "\n",
    "print(prom)\n",
    "print(var)\n",
    "print(err)"
   ]
  },
  {
   "cell_type": "code",
   "execution_count": 52,
   "metadata": {},
   "outputs": [
    {
     "name": "stdout",
     "output_type": "stream",
     "text": [
      "mean: 10.196482\n",
      " var: 11.081062\n",
      " err: 0.332882\n"
     ]
    }
   ],
   "source": [
    "!cd /home/agustin/Escritorio/Servicio/MonteCarlo/bin && ./mean"
   ]
  }
 ],
 "metadata": {
  "kernelspec": {
   "display_name": "Python 3",
   "language": "python",
   "name": "python3"
  },
  "language_info": {
   "codemirror_mode": {
    "name": "ipython",
    "version": 3
   },
   "file_extension": ".py",
   "mimetype": "text/x-python",
   "name": "python",
   "nbconvert_exporter": "python",
   "pygments_lexer": "ipython3",
   "version": "3.10.12"
  }
 },
 "nbformat": 4,
 "nbformat_minor": 2
}
