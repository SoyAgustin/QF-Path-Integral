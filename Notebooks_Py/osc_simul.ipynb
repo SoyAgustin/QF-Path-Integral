{
 "cells": [
  {
   "cell_type": "code",
   "execution_count": 34,
   "metadata": {},
   "outputs": [
    {
     "name": "stdout",
     "output_type": "stream",
     "text": [
      "acc:  0.752821199999983\n",
      "E_0:  0.532548033315079 0.003190349551114033\n",
      "E_0:_ 0.5125626637847109 0.003190349551114033\n"
     ]
    }
   ],
   "source": [
    "import numpy as np\n",
    "import matplotlib.pyplot as plt\n",
    "\n",
    "#Parametros\n",
    "N = 50\n",
    "epsilon = 0.4\n",
    "lambda_ = 0\n",
    "\n",
    "L = 10 #Fijo\n",
    "a = L/N #varía con N\n",
    "\n",
    "sweeps = 501000\n",
    "term = 1000\n",
    "steps = 10\n",
    "measurements = (sweeps-term)/steps\n",
    "\n",
    "def init_x(start):\n",
    "    if start == 1:\n",
    "        x = np.random.uniform(0,1,size=N)\n",
    "    elif start == 0:\n",
    "        x = np.zeros(N)\n",
    "    return x\n",
    "\n",
    "\n",
    "def S(x):\n",
    "    s = 0\n",
    "    for i in range(N):\n",
    "        s += (0.5*((x[(i+1)%N]-x[i])/a)**2 + 0.5*x[i]**2 + lambda_*x[i]**4)\n",
    "    return a*s\n",
    "\n",
    "def dS(xl,x0,xr,xp):\n",
    "    s = 0\n",
    "    s += ((xr-xp)**2-(xr-x0)**2+(xp-xl)**2-(x0-xl)**2)/(2*a**2)\n",
    "    s += 0.5*(xp**2-x0**2)\n",
    "    s += lambda_*(xp**4-x0**4)\n",
    "    return a*s\n",
    "\n",
    "def sweep(x):\n",
    "    acc = 0\n",
    "    for i in range(N):\n",
    "        rho = np.random.uniform(-epsilon,epsilon)\n",
    "        xp = x[i]+rho\n",
    "        \n",
    "        dse = dS(x[(i-1)%N],x[i],x[(i+1)%N],xp)\n",
    "\n",
    "        if dse<=0.0:\n",
    "            x[i] = xp\n",
    "            acc+=1\n",
    "        else:\n",
    "            p = np.exp(-dse)\n",
    "            rand = np.random.uniform(0,1)\n",
    "            if rand<p:\n",
    "                x[i] = xp\n",
    "                acc+=1\n",
    "    return acc/N\n",
    "\n",
    "\n",
    "\n",
    "x = init_x(0)\n",
    "\n",
    "acc =  0\n",
    "e0 = []\n",
    "e1 = []\n",
    "for i in range(sweeps):\n",
    "    if i>=term and i%steps == 0:\n",
    "        acc += sweep(x)\n",
    "        e0 += [x[0]**2]\n",
    "        e1 += [x[N-1]**2]\n",
    "\n",
    "print(\"acc: \",acc/measurements)\n",
    "print(\"E_0: \",np.mean(e0),np.sqrt(np.var(e0)/len(e0)))\n",
    "print(\"E_0:_\",np.mean(e1),np.sqrt(np.var(e0)/len(e0)))"
   ]
  }
 ],
 "metadata": {
  "kernelspec": {
   "display_name": "Python 3",
   "language": "python",
   "name": "python3"
  },
  "language_info": {
   "codemirror_mode": {
    "name": "ipython",
    "version": 3
   },
   "file_extension": ".py",
   "mimetype": "text/x-python",
   "name": "python",
   "nbconvert_exporter": "python",
   "pygments_lexer": "ipython3",
   "version": "3.10.12"
  }
 },
 "nbformat": 4,
 "nbformat_minor": 2
}
